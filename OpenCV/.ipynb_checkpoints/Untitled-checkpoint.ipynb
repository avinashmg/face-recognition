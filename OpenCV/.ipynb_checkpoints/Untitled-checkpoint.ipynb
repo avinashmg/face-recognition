{
 "cells": [
  {
   "cell_type": "markdown",
   "metadata": {},
   "source": [
    "# Extracting embeddings from training images\n",
    "We need to extract embeddings from the training images. These embeddings are the most distinctive features of a human face."
   ]
  },
  {
   "cell_type": "markdown",
   "metadata": {},
   "source": [
    "## Import neccessary modules"
   ]
  },
  {
   "cell_type": "code",
   "execution_count": 1,
   "metadata": {},
   "outputs": [],
   "source": [
    "from imutils import paths\n",
    "import numpy as np\n",
    "import argparse\n",
    "import imutils\n",
    "import pickle\n",
    "import cv2\n",
    "import os"
   ]
  },
  {
   "cell_type": "markdown",
   "metadata": {},
   "source": [
    "TODO: Clean up so that it is not argument dependant."
   ]
  },
  {
   "cell_type": "code",
   "execution_count": null,
   "metadata": {},
   "outputs": [],
   "source": [
    "# construct the argument parser and parse the arguments\n",
    "ap = argparse.ArgumentParser()\n",
    "ap.add_argument(\"-i\", \"--dataset\",\n",
    "                default=\"dataset\",\n",
    "                help=\"path to input directory of faces + images\")\n",
    "ap.add_argument(\"-e\", \"--embeddings\",\n",
    "                default=\"output/embeddings.pickle\",\n",
    "                help=\"path to output serialized db of facial embeddings\")\n",
    "ap.add_argument(\"-d\", \"--detector\",\n",
    "                default=\"face_detection_model\",\n",
    "                help=\"path to OpenCV's deep learning face detector\")\n",
    "ap.add_argument(\"-m\", \"--embedding-model\",\n",
    "                default=\"openface_nn4.small2.v1.t7\",\n",
    "                help=\"path to OpenCV's deep learning face embedding model\")\n",
    "ap.add_argument(\"-c\", \"--confidence\", type=float, default=0.5,\n",
    "                help=\"minimum probability to filter weak detections\")\n",
    "args = vars(ap.parse_args())"
   ]
  },
  {
   "cell_type": "code",
   "execution_count": 2,
   "metadata": {},
   "outputs": [
    {
     "name": "stdout",
     "output_type": "stream",
     "text": [
      "[INFO] loading face detector...\n"
     ]
    }
   ],
   "source": [
    "# load our serialized face detector from disk\n",
    "print(\"[INFO] loading face detector...\")\n",
    "protoPath = os.path.sep.join([\"face_detection_model\", \"deploy.prototxt\"])\n",
    "modelPath = os.path.sep.join([\"face_detection_model\",\n",
    "                             \"res10_300x300_ssd_iter_140000.caffemodel\"])\n",
    "detector = cv2.dnn.readNetFromCaffe(protoPath, modelPath)"
   ]
  },
  {
   "cell_type": "code",
   "execution_count": 3,
   "metadata": {},
   "outputs": [
    {
     "name": "stdout",
     "output_type": "stream",
     "text": [
      "[INFO] loading face recognizer...\n"
     ]
    }
   ],
   "source": [
    "# load our serialized face embedding model from disk\n",
    "print(\"[INFO] loading face recognizer...\")\n",
    "embedder = cv2.dnn.readNetFromTorch(\"openface_nn4.small2.v1.t7\")"
   ]
  },
  {
   "cell_type": "code",
   "execution_count": 8,
   "metadata": {},
   "outputs": [
    {
     "name": "stdout",
     "output_type": "stream",
     "text": [
      "[INFO] quantifying faces...\n"
     ]
    }
   ],
   "source": [
    "# grab the paths to the input images in our dataset\n",
    "print(\"[INFO] quantifying faces...\")\n",
    "imagePaths = list(paths.list_images(\"dataset\"))"
   ]
  },
  {
   "cell_type": "code",
   "execution_count": 9,
   "metadata": {},
   "outputs": [
    {
     "name": "stdout",
     "output_type": "stream",
     "text": [
      "['dataset/srivats/00002.jpg', 'dataset/srivats/00001.jpg', 'dataset/surya/00002.jpg', 'dataset/surya/00001.jpg', 'dataset/surya/00000.jpg', 'dataset/murali/00002.jpg', 'dataset/murali/00001.jpg', 'dataset/adrian/00001.png', 'dataset/adrian/00005.jpg', 'dataset/adrian/00000.png']\n"
     ]
    }
   ],
   "source": [
    "print(imagePaths)"
   ]
  },
  {
   "cell_type": "code",
   "execution_count": 10,
   "metadata": {},
   "outputs": [],
   "source": [
    "# initialize our lists of extracted facial embeddings and\n",
    "# corresponding people names\n",
    "knownEmbeddings = []\n",
    "knownNames = []\n",
    "# initialize the total number of faces processed\n",
    "total = 0"
   ]
  },
  {
   "cell_type": "markdown",
   "metadata": {},
   "source": [
    "## Locate faces and extract embeddings"
   ]
  },
  {
   "cell_type": "code",
   "execution_count": 12,
   "metadata": {},
   "outputs": [
    {
     "name": "stdout",
     "output_type": "stream",
     "text": [
      "[INFO] processing image 1/10\n",
      "[INFO] processing image 2/10\n",
      "[INFO] processing image 3/10\n",
      "[INFO] processing image 4/10\n",
      "[INFO] processing image 5/10\n",
      "[INFO] processing image 6/10\n",
      "[INFO] processing image 7/10\n",
      "[INFO] processing image 8/10\n",
      "[INFO] processing image 9/10\n",
      "[INFO] processing image 10/10\n"
     ]
    }
   ],
   "source": [
    "# loop over the image paths\n",
    "for (i, imagePath) in enumerate(imagePaths):\n",
    "    # extract the person name from the image path\n",
    "    print(\"[INFO] processing image {}/{}\".format(i + 1,\n",
    "          len(imagePaths)))\n",
    "    name = imagePath.split(os.path.sep)[-2]\n",
    "\n",
    "    # load the image, resize it to have a width of 600 pixels (while\n",
    "    # maintaining the aspect ratio), and then grab the image\n",
    "    # dimensions\n",
    "    image = cv2.imread(imagePath)\n",
    "    image = imutils.resize(image, width=600)\n",
    "    (h, w) = image.shape[:2]\n",
    "\n",
    "    # construct a blob from the image\n",
    "    imageBlob = cv2.dnn.blobFromImage(\n",
    "        cv2.resize(image, (300, 300)), 1.0, (300, 300),\n",
    "        (104.0, 177.0, 123.0), swapRB=False, crop=False)\n",
    "\n",
    "    # apply OpenCV's deep learning-based face detector to localize\n",
    "    # faces in the input image\n",
    "    detector.setInput(imageBlob)\n",
    "    detections = detector.forward()\n",
    "\n",
    "    # ensure at least one face was found\n",
    "    if len(detections) > 0:\n",
    "        # we're making the assumption that each image has only ONE\n",
    "        # face, so find the bounding box with the largest probability\n",
    "        i = np.argmax(detections[0, 0, :, 2])\n",
    "        confidence = detections[0, 0, i, 2]\n",
    "\n",
    "        # ensure that the detection with the largest probability also\n",
    "        # means our minimum probability test (thus helping filter out\n",
    "        # weak detections)\n",
    "        if confidence > 0.5:\n",
    "            # compute the (x, y)-coordinates of the bounding box for\n",
    "            # the face\n",
    "            box = detections[0, 0, i, 3:7] * np.array([w, h, w, h])\n",
    "            (startX, startY, endX, endY) = box.astype(\"int\")\n",
    "\n",
    "            # extract the face ROI and grab the ROI dimensions\n",
    "            face = image[startY:endY, startX:endX]\n",
    "            (fH, fW) = face.shape[:2]\n",
    "\n",
    "            # ensure the face width and height are sufficiently large\n",
    "            if fW < 20 or fH < 20:\n",
    "                continue\n",
    "\n",
    "            # construct a blob for the face ROI, then pass the blob\n",
    "            # through our face embedding model to obtain the 128-d\n",
    "            # quantification of the face\n",
    "            faceBlob = cv2.dnn.blobFromImage(face, 1.0 / 255,\n",
    "                                             (96, 96), (0, 0, 0), swapRB=True,\n",
    "                                             crop=False)\n",
    "            embedder.setInput(faceBlob)\n",
    "            vec = embedder.forward()\n",
    "\n",
    "            # add the name of the person + corresponding face\n",
    "            # embedding to their respective lists\n",
    "            knownNames.append(name)\n",
    "            knownEmbeddings.append(vec.flatten())\n",
    "            total += 1"
   ]
  },
  {
   "cell_type": "code",
   "execution_count": 14,
   "metadata": {},
   "outputs": [
    {
     "name": "stdout",
     "output_type": "stream",
     "text": [
      "[INFO] serializing 10 encodings...\n",
      "Names: ['srivats', 'srivats', 'surya', 'surya', 'surya', 'murali', 'murali', 'adrian', 'adrian', 'adrian']\n"
     ]
    }
   ],
   "source": [
    "# dump the facial embeddings + names to disk\n",
    "print(\"[INFO] serializing {} encodings...\".format(total))\n",
    "print(\"Names:\", knownNames)\n",
    "data = {\"embeddings\": knownEmbeddings, \"names\": knownNames}\n",
    "f = open(\"output/embeddings.pickle\", \"wb\")\n",
    "f.write(pickle.dumps(data))\n",
    "f.close()"
   ]
  },
  {
   "cell_type": "code",
   "execution_count": null,
   "metadata": {},
   "outputs": [],
   "source": []
  }
 ],
 "metadata": {
  "kernelspec": {
   "display_name": "Python 3",
   "language": "python",
   "name": "python3"
  },
  "language_info": {
   "codemirror_mode": {
    "name": "ipython",
    "version": 3
   },
   "file_extension": ".py",
   "mimetype": "text/x-python",
   "name": "python",
   "nbconvert_exporter": "python",
   "pygments_lexer": "ipython3",
   "version": "3.6.8"
  }
 },
 "nbformat": 4,
 "nbformat_minor": 2
}
